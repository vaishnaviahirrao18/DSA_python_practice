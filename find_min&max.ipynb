{
 "cells": [
  {
   "cell_type": "code",
   "execution_count": 7,
   "id": "d88fdf6d-302a-4147-ba98-0de1ba73a736",
   "metadata": {},
   "outputs": [
    {
     "name": "stdout",
     "output_type": "stream",
     "text": [
      "minimum element= 0\n",
      "maximum element= 88\n"
     ]
    }
   ],
   "source": [
    "A=[10,30,5,78,34,55,0,6,88]\n",
    "min=A[0]\n",
    "max=A[0]\n",
    "for i in range(len(A)):\n",
    "    if A[i]<min:\n",
    "        min=A[i]\n",
    "    if A[i]>max:\n",
    "        max=A[i]\n",
    "print(\"minimum element=\",min)\n",
    "print(\"maximum element=\",max)"
   ]
  },
  {
   "cell_type": "code",
   "execution_count": null,
   "id": "ca4aecab-8e9b-4b5d-84a0-5579f832494f",
   "metadata": {},
   "outputs": [],
   "source": []
  },
  {
   "cell_type": "code",
   "execution_count": null,
   "id": "b513dbf8-1405-4d35-af85-cbd9cf64af5c",
   "metadata": {},
   "outputs": [],
   "source": []
  }
 ],
 "metadata": {
  "kernelspec": {
   "display_name": "Python 3 (ipykernel)",
   "language": "python",
   "name": "python3"
  },
  "language_info": {
   "codemirror_mode": {
    "name": "ipython",
    "version": 3
   },
   "file_extension": ".py",
   "mimetype": "text/x-python",
   "name": "python",
   "nbconvert_exporter": "python",
   "pygments_lexer": "ipython3",
   "version": "3.11.4"
  }
 },
 "nbformat": 4,
 "nbformat_minor": 5
}
