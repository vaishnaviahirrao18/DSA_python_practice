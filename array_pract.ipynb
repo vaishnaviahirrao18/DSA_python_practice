{
 "cells": [
  {
   "cell_type": "code",
   "execution_count": 19,
   "id": "b599cefb-11e0-42ae-a0fb-5624d0d2bb35",
   "metadata": {},
   "outputs": [
    {
     "name": "stdin",
     "output_type": "stream",
     "text": [
      "Enter the 2 values 2 3\n",
      "enter the array ele 2 3 4 5 6 7\n"
     ]
    },
    {
     "name": "stdout",
     "output_type": "stream",
     "text": [
      "yes\n"
     ]
    }
   ],
   "source": [
    "a,b=map(int,input(\"Enter the 2 values\").split())\n",
    "x=list(map(int,input(\"enter the array ele\").split()))\n",
    "if a in x and b in x:\n",
    "    print(\"yes\")\n",
    "else:\n",
    "    print(\"no\")\n"
   ]
  },
  {
   "cell_type": "code",
   "execution_count": null,
   "id": "2155a7d6-8d3b-4f7b-a85d-8567a81128bf",
   "metadata": {},
   "outputs": [],
   "source": []
  }
 ],
 "metadata": {
  "kernelspec": {
   "display_name": "Python 3 (ipykernel)",
   "language": "python",
   "name": "python3"
  },
  "language_info": {
   "codemirror_mode": {
    "name": "ipython",
    "version": 3
   },
   "file_extension": ".py",
   "mimetype": "text/x-python",
   "name": "python",
   "nbconvert_exporter": "python",
   "pygments_lexer": "ipython3",
   "version": "3.11.4"
  }
 },
 "nbformat": 4,
 "nbformat_minor": 5
}
