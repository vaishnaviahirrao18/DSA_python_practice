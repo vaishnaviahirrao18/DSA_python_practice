{
 "cells": [
  {
   "cell_type": "code",
   "execution_count": 4,
   "id": "a02dcaee-c6e5-4a2a-b49f-77e2f0c14536",
   "metadata": {},
   "outputs": [
    {
     "name": "stdout",
     "output_type": "stream",
     "text": [
      "4\n"
     ]
    }
   ],
   "source": [
    "arr=[1,2,2,2,2,3,4,7,8,8]\n",
    "n=len(arr)\n",
    "x=2\n",
    "count=0\n",
    "for i in range(n):\n",
    "    if x==arr[i]:\n",
    "        count +=1\n",
    "print(count)"
   ]
  },
  {
   "cell_type": "code",
   "execution_count": null,
   "id": "6932ba12-a8cc-4b59-9d9e-cfc901f22dd7",
   "metadata": {},
   "outputs": [],
   "source": []
  }
 ],
 "metadata": {
  "kernelspec": {
   "display_name": "Python 3 (ipykernel)",
   "language": "python",
   "name": "python3"
  },
  "language_info": {
   "codemirror_mode": {
    "name": "ipython",
    "version": 3
   },
   "file_extension": ".py",
   "mimetype": "text/x-python",
   "name": "python",
   "nbconvert_exporter": "python",
   "pygments_lexer": "ipython3",
   "version": "3.11.4"
  }
 },
 "nbformat": 4,
 "nbformat_minor": 5
}
